{
 "cells": [
  {
   "cell_type": "markdown",
   "id": "a1262ebe-370f-4a61-8c06-30f9c3ce2e12",
   "metadata": {},
   "source": [
    "### SPARK: TIME ANALYSIS"
   ]
  },
  {
   "cell_type": "markdown",
   "id": "47480439-a787-4c51-a02b-a03d71700feb",
   "metadata": {},
   "source": [
    "## Description\n",
    "3 studies on the data provided in the file tripdata_2017_01.csv\n",
    "    1. Average speed of taxis in terms of the hour\n",
    "    2. Most common taxi trips\n",
    "    3. Financial records (tips, persons, etc)\n",
    "We are going to use Spark's API (RDDs), dataframes and direct SQL."
   ]
  },
  {
   "cell_type": "code",
   "execution_count": 1,
   "id": "e51f7a1b-5991-431d-9c26-c5354a92c224",
   "metadata": {},
   "outputs": [
    {
     "name": "stdout",
     "output_type": "stream",
     "text": [
      "Requirement already satisfied: findspark in /opt/conda/lib/python3.11/site-packages (2.0.1)\n",
      "Note: you may need to restart the kernel to use updated packages.\n"
     ]
    }
   ],
   "source": [
    "pip install findspark"
   ]
  },
  {
   "cell_type": "code",
   "execution_count": 2,
   "id": "09ae07dd-090c-49b1-90d7-31d88f80dd32",
   "metadata": {},
   "outputs": [],
   "source": [
    "import findspark\n",
    "findspark\n",
    "from pyspark.sql import SparkSession\n",
    "\n",
    "#we are going to crate a SparkSession with the name \"lab_spark\"\n",
    "spark = SparkSession.builder.appName(\"lab_spark\").getOrCreate()\n",
    "\n",
    "#obtain the SparkContext from the SparkSession\n",
    "spark_context = spark.sparkContext\n",
    "\n",
    "#libraries\n",
    "import pandas as pd\n",
    "import numpy as np\n",
    "import time\n",
    "import matplotlib.pyplot as plt\n",
    "import seaborn as sns\n",
    "#import pickle\n",
    "\n",
    "#import functions and classes from pyspark.sql\n",
    "from pyspark.sql.functions import col, round, expr, from_unixtime, unix_timestamp, date_format #module to work with columns\n",
    "from pyspark.sql.types import IntegerType #module to work with integer data types"
   ]
  },
  {
   "cell_type": "code",
   "execution_count": 3,
   "id": "8f37bd62-a40b-45c4-97f2-c46f211f55a5",
   "metadata": {},
   "outputs": [],
   "source": [
    "#we need to calculate the time it takes to read the data\n",
    "start_time = time.time()"
   ]
  },
  {
   "cell_type": "markdown",
   "id": "91654b4f-94bf-40dc-bfff-ee1d5e47f71f",
   "metadata": {},
   "source": [
    "Now, we are going to read the dataset of the taxis"
   ]
  },
  {
   "cell_type": "code",
   "execution_count": 4,
   "id": "32471550-0e37-464d-8e3e-fd7a022ae020",
   "metadata": {},
   "outputs": [
    {
     "name": "stdout",
     "output_type": "stream",
     "text": [
      "+--------+--------------------+---------------------+---------------+-------------+----------+------------------+------------+------------+------------+-----------+-----+-------+----------+------------+---------------------+------------+\n",
      "|VendorID|tpep_pickup_datetime|tpep_dropoff_datetime|passenger_count|trip_distance|RatecodeID|store_and_fwd_flag|PULocationID|DOLocationID|payment_type|fare_amount|extra|mta_tax|tip_amount|tolls_amount|improvement_surcharge|total_amount|\n",
      "+--------+--------------------+---------------------+---------------+-------------+----------+------------------+------------+------------+------------+-----------+-----+-------+----------+------------+---------------------+------------+\n",
      "|       1| 2017-01-09 11:13:28|  2017-01-09 11:25:45|              1|          3.3|         1|                 N|         263|         161|           1|       12.5|  0.0|    0.5|       2.0|         0.0|                  0.3|        15.3|\n",
      "|       1| 2017-01-09 11:32:27|  2017-01-09 11:36:01|              1|          0.9|         1|                 N|         186|         234|           1|        5.0|  0.0|    0.5|      1.45|         0.0|                  0.3|        7.25|\n",
      "|       1| 2017-01-09 11:38:20|  2017-01-09 11:42:05|              1|          1.1|         1|                 N|         164|         161|           1|        5.5|  0.0|    0.5|       1.0|         0.0|                  0.3|         7.3|\n",
      "|       1| 2017-01-09 11:52:13|  2017-01-09 11:57:36|              1|          1.1|         1|                 N|         236|          75|           1|        6.0|  0.0|    0.5|       1.7|         0.0|                  0.3|         8.5|\n",
      "|       2| 2017-01-01 00:00:00|  2017-01-01 00:00:00|              1|         0.02|         2|                 N|         249|         234|           2|       52.0|  0.0|    0.5|       0.0|         0.0|                  0.3|        52.8|\n",
      "+--------+--------------------+---------------------+---------------+-------------+----------+------------------+------------+------------+------------+-----------+-----+-------+----------+------------+---------------------+------------+\n",
      "only showing top 5 rows\n",
      "\n"
     ]
    }
   ],
   "source": [
    "taxi_data_df = spark.read.format(\"csv\").option(\"header\", \"true\").option(\"inferSchema\", \"true\").option(\"timestampFormat\", \"yyyy-MM-dd HH:mm:ss\").option(\"mode\", \"PERMISSIVE\").load(r\"./tripdata_2017_01.csv\") \n",
    "taxi_data_df.show(5)"
   ]
  },
  {
   "cell_type": "code",
   "execution_count": 5,
   "id": "b7cc4a26-c13c-4071-91db-ce2aa7920a1f",
   "metadata": {},
   "outputs": [],
   "source": [
    "end_time = time.time()\n",
    "time_to_read=(end_time - start_time)#time it takes to read the data"
   ]
  },
  {
   "cell_type": "code",
   "execution_count": 6,
   "id": "851158ab-bbf8-4718-aeda-770784eb241d",
   "metadata": {},
   "outputs": [
    {
     "name": "stdout",
     "output_type": "stream",
     "text": [
      "Time it takes to read the data with Spark dataframes:  9.189284563064575\n"
     ]
    }
   ],
   "source": [
    "print('Time it takes to read the data with Spark dataframes: ', time_to_read)"
   ]
  },
  {
   "cell_type": "code",
   "execution_count": 7,
   "id": "96250cae-e3ca-4ff9-b2c4-4b55bdb74c0c",
   "metadata": {},
   "outputs": [],
   "source": [
    "#taxi_data_df.describe().show()"
   ]
  },
  {
   "cell_type": "markdown",
   "id": "28a14585-e0ce-4c16-8bed-bf707f6cdb8e",
   "metadata": {},
   "source": [
    "Now, let's clean the data"
   ]
  },
  {
   "cell_type": "code",
   "execution_count": 8,
   "id": "f34143f8-392b-4a82-8c4f-7dddc45fe47b",
   "metadata": {},
   "outputs": [],
   "source": [
    "#we need to calculate the time it takes to clean the data\n",
    "start_time = time.time()"
   ]
  },
  {
   "cell_type": "markdown",
   "id": "d326cc0f-f43c-4a9b-b5dc-c098890dc44b",
   "metadata": {},
   "source": [
    "We are going to calculate the total duration of each trip and remove the ones that have a duration of 0"
   ]
  },
  {
   "cell_type": "code",
   "execution_count": 9,
   "id": "03db2026-f607-41de-abba-ecec229ac32b",
   "metadata": {},
   "outputs": [],
   "source": [
    "taxi_data_df = taxi_data_df.withColumn(\"trip_time_hours\", round((unix_timestamp(col(\"tpep_dropoff_datetime\")) - unix_timestamp(col(\"tpep_pickup_datetime\"))) / 3600, 2)) #calculate the trip time in hours\n",
    "taxi_data_df = taxi_data_df.filter(col('trip_time_hours') >= 0)"
   ]
  },
  {
   "cell_type": "code",
   "execution_count": null,
   "id": "459b3079-ad9b-4de2-8afc-8de1d2ad3070",
   "metadata": {},
   "outputs": [],
   "source": []
  },
  {
   "cell_type": "code",
   "execution_count": 10,
   "id": "c63545e1-d147-4f91-ba68-188c8c1399c3",
   "metadata": {},
   "outputs": [],
   "source": [
    "#now let's count how many of them do we have"
   ]
  },
  {
   "cell_type": "code",
   "execution_count": 11,
   "id": "ceeed06f-245e-49df-bfac-a7ae4c52eac7",
   "metadata": {},
   "outputs": [
    {
     "data": {
      "text/plain": [
       "971010"
      ]
     },
     "execution_count": 11,
     "metadata": {},
     "output_type": "execute_result"
    }
   ],
   "source": [
    "taxi_data_df.count()"
   ]
  },
  {
   "cell_type": "markdown",
   "id": "c35ba441-90e5-4254-be7b-0c128a0d24b0",
   "metadata": {},
   "source": [
    "We are going to remove rows <=0 (tip_amount, total_amount, fare_amount, mta_tax)"
   ]
  },
  {
   "cell_type": "code",
   "execution_count": 12,
   "id": "d9ce8eac-5489-486c-9607-91a59b4f674a",
   "metadata": {},
   "outputs": [],
   "source": [
    "#filter values of tips and other taxes lower than 0\n",
    "\n",
    "#for column in [\"tip_amount\", \"tolls_amount\", \"improvement_surcharge\", \"total_amount\"]:\n",
    "    #taxi_data_df = taxi_data_df.filter(col(column) >= 0)\n",
    "#¡¡¡¡¡¡¡¡DUDA DE SI total_amount Y fare_amount SOLO DESCARTAR LOS >0 Y DEJAR LOS =0!!!!!!!!!!!!!!!!!\n",
    "\n",
    "for column in ['tip_amount', 'mta_tax']:\n",
    "    taxi_data_df = taxi_data_df.filter(taxi_data_df[column] >= 0)"
   ]
  },
  {
   "cell_type": "code",
   "execution_count": 13,
   "id": "f55f9753-e4af-4525-8919-9626710c01e1",
   "metadata": {},
   "outputs": [],
   "source": [
    "for column in ['fare_amount', 'total_amount']:\n",
    "        taxi_data_df = taxi_data_df.filter(taxi_data_df[column] > 0)"
   ]
  },
  {
   "cell_type": "code",
   "execution_count": 14,
   "id": "f9302701-50ef-430e-9420-f9d5829136a7",
   "metadata": {},
   "outputs": [
    {
     "data": {
      "text/plain": [
       "970238"
      ]
     },
     "execution_count": 14,
     "metadata": {},
     "output_type": "execute_result"
    }
   ],
   "source": [
    "taxi_data_df.count()"
   ]
  },
  {
   "cell_type": "code",
   "execution_count": 15,
   "id": "b3e88ff9-0398-44be-b6e5-7fff66653319",
   "metadata": {},
   "outputs": [],
   "source": [
    "end_time = time.time()\n",
    "time_data_cleaning = end_time - start_time#time it takes to clean the data"
   ]
  },
  {
   "cell_type": "code",
   "execution_count": 16,
   "id": "e1252a74-71e0-4f3a-adda-652078bf7286",
   "metadata": {},
   "outputs": [
    {
     "name": "stdout",
     "output_type": "stream",
     "text": [
      "Time it takes to clean the data with Spark dataframes:  6.320282459259033\n"
     ]
    }
   ],
   "source": [
    "print('Time it takes to clean the data with Spark dataframes: ', time_data_cleaning)"
   ]
  },
  {
   "cell_type": "markdown",
   "id": "805542df-57cc-4d55-b472-f0806bd241f8",
   "metadata": {},
   "source": [
    "### **STUDY 1: AVERAGE SPEED OF TAXIS IN TERMS OF THE HOUR**"
   ]
  },
  {
   "cell_type": "markdown",
   "id": "964499c6-1f6f-4ab3-9871-69dcf544b60f",
   "metadata": {},
   "source": [
    "In this study, we will calculate the average speed of New York taxis for each hour of the day to analyze traffic patterns in the city. This analysis has been conducted using dataframes, RDD, SQL, and Pandas. The steps we followed are as follows:\n",
    "\n",
    "    1. Convert trip distance from miles to kilometers.\n",
    "    2. Calculate speed by dividing the trip distance by the previously calculated trip duration.\n",
    "    3. Group the data by the hour of the day and compute the average speed.\n",
    "    4. Finally, we plot the results."
   ]
  },
  {
   "cell_type": "markdown",
   "id": "11d94f21-696f-4ebc-9be0-addda2ca5768",
   "metadata": {},
   "source": [
    "**With RDD**"
   ]
  },
  {
   "cell_type": "code",
   "execution_count": 17,
   "id": "84a5f9ed-7443-4c96-8afe-0c56a73a657a",
   "metadata": {},
   "outputs": [
    {
     "name": "stdout",
     "output_type": "stream",
     "text": [
      "+--------+--------------------+---------------------+---------------+-------------+----------+------------------+------------+------------+------------+-----------+-----+-------+----------+------------+---------------------+------------+---------------+\n",
      "|VendorID|tpep_pickup_datetime|tpep_dropoff_datetime|passenger_count|trip_distance|RatecodeID|store_and_fwd_flag|PULocationID|DOLocationID|payment_type|fare_amount|extra|mta_tax|tip_amount|tolls_amount|improvement_surcharge|total_amount|trip_time_hours|\n",
      "+--------+--------------------+---------------------+---------------+-------------+----------+------------------+------------+------------+------------+-----------+-----+-------+----------+------------+---------------------+------------+---------------+\n",
      "|       1| 2017-01-09 11:13:28|  2017-01-09 11:25:45|              1|          3.3|         1|                 N|         263|         161|           1|       12.5|  0.0|    0.5|       2.0|         0.0|                  0.3|        15.3|            0.2|\n",
      "|       1| 2017-01-09 11:32:27|  2017-01-09 11:36:01|              1|          0.9|         1|                 N|         186|         234|           1|        5.0|  0.0|    0.5|      1.45|         0.0|                  0.3|        7.25|           0.06|\n",
      "|       1| 2017-01-09 11:38:20|  2017-01-09 11:42:05|              1|          1.1|         1|                 N|         164|         161|           1|        5.5|  0.0|    0.5|       1.0|         0.0|                  0.3|         7.3|           0.06|\n",
      "+--------+--------------------+---------------------+---------------+-------------+----------+------------------+------------+------------+------------+-----------+-----+-------+----------+------------+---------------------+------------+---------------+\n",
      "only showing top 3 rows\n",
      "\n"
     ]
    }
   ],
   "source": [
    "taxi_df = taxi_data_df.alias('taxi_df')\n",
    "taxi_df.show(3)"
   ]
  },
  {
   "cell_type": "code",
   "execution_count": 18,
   "id": "4dca6e13-97ec-4b0a-82c3-328a0db743be",
   "metadata": {},
   "outputs": [],
   "source": [
    "#function to calculate the time elapsed in hours to know the duration of the trips\n",
    "def compute_hours_elapsed(start_time, end_time):\n",
    "    time_diff = (end_time - start_time).total_seconds() / 3600\n",
    "    return np.round(time_diff, 3)"
   ]
  },
  {
   "cell_type": "code",
   "execution_count": 40,
   "id": "65cc3231-d990-4062-92f1-e0a4d63f0e34",
   "metadata": {},
   "outputs": [
    {
     "name": "stdout",
     "output_type": "stream",
     "text": [
      "Execution time for Spark RDD task: 29.084811687469482\n",
      "Hour: 0, Avg Speed: 25.34\n",
      "Hour: 1, Avg Speed: 23.889\n",
      "Hour: 2, Avg Speed: 25.316\n",
      "Hour: 3, Avg Speed: 28.121\n",
      "Hour: 4, Avg Speed: 32.848\n",
      "Hour: 5, Avg Speed: 35.234\n",
      "Hour: 6, Avg Speed: 31.218\n",
      "Hour: 7, Avg Speed: 23.536\n",
      "Hour: 8, Avg Speed: 22.763\n",
      "Hour: 9, Avg Speed: 21.658\n",
      "Hour: 10, Avg Speed: 23.173\n",
      "Hour: 11, Avg Speed: 21.327\n",
      "Hour: 12, Avg Speed: 21.213\n",
      "Hour: 13, Avg Speed: 20.677\n",
      "Hour: 14, Avg Speed: 22.866\n",
      "Hour: 15, Avg Speed: 20.481\n",
      "Hour: 16, Avg Speed: 26.025\n",
      "Hour: 17, Avg Speed: 21.265\n",
      "Hour: 18, Avg Speed: 21.137\n",
      "Hour: 19, Avg Speed: 24.748\n",
      "Hour: 20, Avg Speed: 23.592\n",
      "Hour: 21, Avg Speed: 24.49\n",
      "Hour: 22, Avg Speed: 27.589\n",
      "Hour: 23, Avg Speed: 31.044\n"
     ]
    }
   ],
   "source": [
    "# Extract the necessary columns as RDDs\n",
    "distance_rdd = taxi_df.select('trip_distance').rdd.map(lambda x: x[0])\n",
    "dropoff_time_rdd = taxi_df.select('tpep_dropoff_datetime').rdd.map(lambda x: x[0])\n",
    "pickup_time_rdd = taxi_df.select('tpep_pickup_datetime').rdd.map(lambda x: x[0])\n",
    "\n",
    "# Convert distance to kilometers\n",
    "distance_km_rdd = distance_rdd.map(lambda x: np.round(x * 1.609344, 3))\n",
    "\n",
    "# Create an RDD with pickup and dropoff datetime pairs\n",
    "datetime_rdd = taxi_df.select('tpep_pickup_datetime', 'tpep_dropoff_datetime').rdd.map(lambda x: (x[0], x[1]))\n",
    "\n",
    "# Calculate trip duration in hours\n",
    "trip_duration_rdd = datetime_rdd.map(lambda x: calculate_elapsed_hours(x[0], x[1]))\n",
    "\n",
    "# Zip the distance (km) with trip duration (hours)\n",
    "distance_time_rdd = distance_km_rdd.zip(trip_duration_rdd)\n",
    "\n",
    "# Calculate the average trip speed (km/h), handle zero duration cases\n",
    "speed_rdd = distance_time_rdd.map(lambda x: np.round(x[0] / x[1], 3) if x[1] > 0 else 0)\n",
    "\n",
    "# Extract the hour from pickup datetime\n",
    "hour_rdd = pickup_time_rdd.map(lambda x: x.hour)\n",
    "\n",
    "# Create a key-value pair (hour, 1) to count the number of trips per hour\n",
    "key_hour_rdd = hour_rdd.map(lambda x: (x, 1))\n",
    "\n",
    "# Reduce by key to get the total number of trips per hour\n",
    "hour_trip_count_rdd = key_hour_rdd.reduceByKey(lambda x, y: x + y)\n",
    "\n",
    "# Create a key-value pair (hour, speed) to sum the speeds per hour\n",
    "hour_speed_rdd = hour_rdd.zip(speed_rdd)\n",
    "\n",
    "# Reduce by key (hour) to get the total speed sum per hour\n",
    "hour_speed_sum_rdd = hour_speed_rdd.reduceByKey(lambda x, y: np.round(x + y, 3))\n",
    "\n",
    "# Calculate the average speed per hour by dividing the total speed sum by the number of trips per hour\n",
    "avg_speed_per_hour_rdd = hour_speed_sum_rdd.join(hour_trip_count_rdd).map(lambda x: (x[0], np.round(x[1][0] / x[1][1], 3)))\n",
    "\n",
    "# Sort the hours for visualization purposes\n",
    "sorted_hours_rdd = hour_trip_count_rdd.map(lambda x: x[0])\n",
    "\n",
    "# Measure execution time\n",
    "start_time = time.time()\n",
    "\n",
    "# Collect the results\n",
    "avg_speed_per_hour_list = avg_speed_per_hour_rdd.collect()\n",
    "sorted_hours_list = sorted_hours_rdd.collect()\n",
    "\n",
    "end_time = time.time()\n",
    "execution_time = end_time - start_time\n",
    "\n",
    "# Print execution time\n",
    "print('Execution time for Spark RDD task:', execution_time)\n",
    "\n",
    "# Print the result\n",
    "for hour, avg_speed in sorted(avg_speed_per_hour_list):\n",
    "    print(f'Hour: {hour}, Avg Speed: {avg_speed}')\n"
   ]
  },
  {
   "cell_type": "code",
   "execution_count": 36,
   "id": "726ddaac-612e-477d-96e1-d88b2a2da81f",
   "metadata": {},
   "outputs": [
    {
     "name": "stdout",
     "output_type": "stream",
     "text": [
      "[(0, nan), (8, nan), (16, nan), (9, nan), (17, nan), (1, nan), (10, nan), (2, nan), (18, nan), (11, nan), (3, nan), (19, nan), (12, nan), (4, nan), (20, nan), (13, nan), (5, nan), (21, nan), (6, nan), (14, nan), (22, nan), (7, nan), (15, nan), (23, nan)]\n"
     ]
    }
   ],
   "source": [
    "print(average_speed_hour_list)"
   ]
  },
  {
   "cell_type": "code",
   "execution_count": 39,
   "id": "1a3161a9-5ea4-40bd-88ef-31db4689bf5d",
   "metadata": {},
   "outputs": [
    {
     "name": "stdout",
     "output_type": "stream",
     "text": [
      "[0, 8, 16, 9, 17, 1, 10, 2, 18, 11, 3, 19, 12, 4, 20, 13, 5, 21, 6, 14, 22, 7, 15, 23]\n"
     ]
    }
   ],
   "source": [
    "print(ordered_hours_list)"
   ]
  },
  {
   "cell_type": "code",
   "execution_count": null,
   "id": "7960944a-3fff-4f3f-839b-2cc0f48004e5",
   "metadata": {},
   "outputs": [],
   "source": [
    "print(average_speed_hour_list[0][1])"
   ]
  },
  {
   "cell_type": "code",
   "execution_count": 37,
   "id": "546276a0-3bd6-45ed-b661-3c028ac0c6e5",
   "metadata": {},
   "outputs": [],
   "source": [
    "first_values = [x[0] for x in average_speed_hour_list]\n",
    "\n",
    "# Second list for the second elements (average speeds)\n",
    "second_values = [x[1] for x in average_speed_hour_list]"
   ]
  },
  {
   "cell_type": "code",
   "execution_count": 38,
   "id": "e82ba352-8ce3-40c0-aca2-fd525e924e0a",
   "metadata": {},
   "outputs": [
    {
     "data": {
      "image/png": "[encoded data removed]",
      "text/plain": [
       "<Figure size 1000x600 with 1 Axes>"
      ]
     },
     "metadata": {},
     "output_type": "display_data"
    }
   ],
   "source": [
    "# Initialize a new figure with a defined size (10 inches wide by 6 inches tall)\n",
    "fig, ax = plt.subplots(figsize=(10, 6))\n",
    "\n",
    "#line plot, using hours for the x-axis and average speed for the y-axis\n",
    "sns.lineplot(x=first_values, y=second_values, ax=ax, color='blue')\n",
    "\n",
    "ax.set_xlabel(\"Hour\")\n",
    "ax.set_ylabel(\"Average speed\")\n",
    "ax.set_title(\"Average speed per hour\")\n",
    "ax.set_xticks(range(25))\n",
    "ax.set_xticklabels(range(25), rotation=0)\n",
    "\n",
    "plt.tight_layout()\n",
    "plt.show()"
   ]
  },
  {
   "cell_type": "markdown",
   "id": "f6336234-3fa0-480a-9a24-aae378b3b557",
   "metadata": {},
   "source": [
    "**With dataframes**"
   ]
  },
  {
   "cell_type": "code",
   "execution_count": 26,
   "id": "c88b523e-67bc-49c6-b571-746704559388",
   "metadata": {},
   "outputs": [
    {
     "name": "stdout",
     "output_type": "stream",
     "text": [
      "+--------+--------------------+---------------------+---------------+-------------+----------+------------------+------------+------------+------------+-----------+-----+-------+----------+------------+---------------------+------------+---------------+\n",
      "|VendorID|tpep_pickup_datetime|tpep_dropoff_datetime|passenger_count|trip_distance|RatecodeID|store_and_fwd_flag|PULocationID|DOLocationID|payment_type|fare_amount|extra|mta_tax|tip_amount|tolls_amount|improvement_surcharge|total_amount|trip_time_hours|\n",
      "+--------+--------------------+---------------------+---------------+-------------+----------+------------------+------------+------------+------------+-----------+-----+-------+----------+------------+---------------------+------------+---------------+\n",
      "|       1| 2017-01-09 11:13:28|  2017-01-09 11:25:45|              1|          3.3|         1|                 N|         263|         161|           1|       12.5|  0.0|    0.5|       2.0|         0.0|                  0.3|        15.3|            0.2|\n",
      "|       1| 2017-01-09 11:32:27|  2017-01-09 11:36:01|              1|          0.9|         1|                 N|         186|         234|           1|        5.0|  0.0|    0.5|      1.45|         0.0|                  0.3|        7.25|           0.06|\n",
      "|       1| 2017-01-09 11:38:20|  2017-01-09 11:42:05|              1|          1.1|         1|                 N|         164|         161|           1|        5.5|  0.0|    0.5|       1.0|         0.0|                  0.3|         7.3|           0.06|\n",
      "+--------+--------------------+---------------------+---------------+-------------+----------+------------------+------------+------------+------------+-----------+-----+-------+----------+------------+---------------------+------------+---------------+\n",
      "only showing top 3 rows\n",
      "\n"
     ]
    }
   ],
   "source": [
    "taxi_df = taxi_data_df.alias('taxi_data_df')\n",
    "taxi_df.show(3)"
   ]
  },
  {
   "cell_type": "code",
   "execution_count": 27,
   "id": "a6125ea0-eb85-45d2-974e-a79bd6c3a021",
   "metadata": {},
   "outputs": [
    {
     "name": "stdout",
     "output_type": "stream",
     "text": [
      "Execution time for Spark DataFrames task: 2.8028087615966797\n"
     ]
    }
   ],
   "source": [
    "dropoff_df = taxi_data_df.select('tpep_dropoff_datetime')\n",
    "pickup_df = taxi_data_df.select('tpep_pickup_datetime')\n",
    "\n",
    "taxi_df = taxi_data_df.withColumn(\"trip_distance_km\", round(taxi_data_df[\"trip_distance\"] * 1.609344, 3))\n",
    "\n",
    "taxi_df = taxi_df.withColumn(\"trip_duration_hours\", (unix_timestamp(\"tpep_dropoff_datetime\") - unix_timestamp(\"tpep_pickup_datetime\")) / 3600)\n",
    "\n",
    "taxi_df = taxi_df.withColumn(\"trip_speed_km_h\", round(taxi_df['trip_distance_km'] / taxi_df['trip_duration_hours'], 3))\n",
    "\n",
    "# Extract the hour from pickup datetime and format it\n",
    "taxi_df = taxi_df.withColumn(\"hour_time\", date_format(taxi_df[\"tpep_pickup_datetime\"], \"HH\"))\n",
    "\n",
    "# Group by hour and calculate average trip speed\n",
    "hours_speed_df = taxi_df.groupBy(\"hour_time\").agg({\"trip_speed_km_h\": \"mean\"})\n",
    "\n",
    "hours_speed_df = hours_speed_df.withColumn(\"hour_time\", hours_speed_df[\"hour_time\"].cast(IntegerType()))\n",
    "\n",
    "start_time = time.time()\n",
    "hours_speed_df_pd = hours_speed_df.toPandas()\n",
    "end_time = time.time()\n",
    "\n",
    "task1_spark_df_time = end_time - start_time\n",
    "print('Execution time for Spark DataFrames task:', task1_spark_df_time)\n"
   ]
  },
  {
   "cell_type": "code",
   "execution_count": 28,
   "id": "7848d3fa-a431-46cd-ae15-6b6c442c0b8b",
   "metadata": {},
   "outputs": [
    {
     "data": {
      "image/png": "[encoded data removed]",
      "text/plain": [
       "<Figure size 1000x600 with 1 Axes>"
      ]
     },
     "metadata": {},
     "output_type": "display_data"
    }
   ],
   "source": [
    "fig, ax = plt.subplots(figsize=(10, 6))\n",
    "\n",
    "# Line plot, using hours for the x-axis and average speed for the y-axis\n",
    "sns.lineplot(x=\"hour_time\", y=\"avg(trip_speed_km_h)\", data=hours_speed_df_pd, ax=ax, color='blue')\n",
    "\n",
    "ax.set_xlabel(\"Hour\")\n",
    "ax.set_ylabel(\"Average Speed (km/h)\")\n",
    "ax.set_title(\"Average speed per hour\")\n",
    "\n",
    "ax.set_xticks(range(0, 24))\n",
    "ax.set_xticklabels(range(0, 24), rotation=0)\n",
    "\n",
    "#minimum and maximum speed for y-ticks\n",
    "min_value = np.round(hours_speed_df_pd[\"avg(trip_speed_km_h)\"].min())\n",
    "max_value = np.round(hours_speed_df_pd[\"avg(trip_speed_km_h)\"].max())\n",
    "ysticks_ = np.unique(np.round(np.linspace(min_value, max_value, 15)))\n",
    "\n",
    "ax.set_yticks(ysticks_)\n",
    "plt.tight_layout()\n",
    "plt.show()\n"
   ]
  },
  {
   "cell_type": "markdown",
   "id": "1a52eb76-1e2a-4850-9793-34adab99c7c9",
   "metadata": {},
   "source": [
    "**With SQL**"
   ]
  },
  {
   "cell_type": "code",
   "execution_count": null,
   "id": "02990b8c-f335-4829-9c78-02552194047e",
   "metadata": {},
   "outputs": [],
   "source": [
    "taxi_df = taxi_data_df.alias('taxi_data_df')\n",
    "taxi_df.show(3)"
   ]
  },
  {
   "cell_type": "code",
   "execution_count": null,
   "id": "3f865e6f-1bc5-44a5-9e0c-2f29645974f8",
   "metadata": {},
   "outputs": [],
   "source": [
    "# Create temporary views for SQL queries\n",
    "taxi_data_df.createOrReplaceTempView(\"taxi_data\")\n",
    "\n",
    "# Use SQL to calculate trip distances in kilometers, duration, speed, and extract hour\n",
    "sql_query = \"\"\"\n",
    "SELECT \n",
    "    tpep_pickup_datetime,\n",
    "    tpep_dropoff_datetime,\n",
    "    ROUND(trip_distance * 1.609344, 3) AS trip_distance_km,\n",
    "    (UNIX_TIMESTAMP(tpep_dropoff_datetime) - UNIX_TIMESTAMP(tpep_pickup_datetime)) / 3600 AS trip_duration_hours,\n",
    "    ROUND(ROUND(trip_distance * 1.609344, 3) / ((UNIX_TIMESTAMP(tpep_dropoff_datetime) - UNIX_TIMESTAMP(tpep_pickup_datetime)) / 3600), 3) AS trip_speed_km_h,\n",
    "    DATE_FORMAT(tpep_pickup_datetime, 'HH') AS hour_time\n",
    "FROM taxi_data\n",
    "\"\"\"\n",
    "\n",
    "# Execute the SQL query and create a new DataFrame\n",
    "taxi_df = spark.sql(sql_query)\n",
    "\n",
    "# Group by hour and calculate average trip speed\n",
    "hours_speed_df = taxi_df.groupBy(\"hour_time\").agg({\"trip_speed_km_h\": \"mean\"})\n",
    "\n",
    "# Convert the \"hour_time\" column to integer type\n",
    "hours_speed_df = hours_speed_df.withColumn(\"hour_time\", hours_speed_df[\"hour_time\"].cast(IntegerType()))\n",
    "\n",
    "# Measure execution time for the SQL operation\n",
    "start_time = time.time()\n",
    "hours_speed_df_pd = hours_speed_df.toPandas()  # Convert the DataFrame to a Pandas DataFrame for further analysis\n",
    "end_time = time.time()\n",
    "\n",
    "# Calculate and print the execution time\n",
    "task1_spark_sql_time = end_time - start_time\n",
    "print('Execution time for Spark SQL task:', task1_spark_sql_time)\n"
   ]
  },
  {
   "cell_type": "code",
   "execution_count": null,
   "id": "9845a407-0a8f-4902-a2d5-9b10a599d292",
   "metadata": {},
   "outputs": [],
   "source": [
    "fig, ax = plt.subplots(figsize=(10, 6))\n",
    "\n",
    "sns.lineplot(x=\"hour_time\", y=\"avg(trip_speed_km_h)\", data=hours_speed_df_pd, ax=ax, color='blue')\n",
    "\n",
    "ax.set_xlabel(\"Hour\")\n",
    "ax.set_ylabel(\"Average Speed (km/h)\")\n",
    "ax.set_title(\"Average Speed Per Hour\")\n",
    "\n",
    "#x-ticks to represent each hour of the day\n",
    "ax.set_xticks(range(0, 24))\n",
    "ax.set_xticklabels(range(0, 24), rotation=0)\n",
    "\n",
    "#minimum and maximum average speeds for y-ticks\n",
    "min_value = np.round(hours_speed_df_pd[\"avg(trip_speed_km_h)\"].min())\n",
    "max_value = np.round(hours_speed_df_pd[\"avg(trip_speed_km_h)\"].max())\n",
    "ysticks_ = np.unique(np.round(np.linspace(min_value, max_value, 15)))\n",
    "\n",
    "ax.set_yticks(ysticks_)\n",
    "plt.tight_layout()\n",
    "plt.show()"
   ]
  }
 ],
 "metadata": {
  "kernelspec": {
   "display_name": "Python 3 (ipykernel)",
   "language": "python",
   "name": "python3"
  },
  "language_info": {
   "codemirror_mode": {
    "name": "ipython",
    "version": 3
   },
   "file_extension": ".py",
   "mimetype": "text/x-python",
   "name": "python",
   "nbconvert_exporter": "python",
   "pygments_lexer": "ipython3",
   "version": "3.11.10"
  }
 },
 "nbformat": 4,
 "nbformat_minor": 5
}
